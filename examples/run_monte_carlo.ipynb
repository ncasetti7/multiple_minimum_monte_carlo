{
 "cells": [
  {
   "cell_type": "code",
   "execution_count": 1,
   "id": "108e6c6c",
   "metadata": {},
   "outputs": [],
   "source": [
    "from ase.optimize.fire import FIRE\n",
    "from ase.io import write\n",
    "from multiple_minimum_monte_carlo.conformer import Conformer\n",
    "from multiple_minimum_monte_carlo.calculation import ASEOptimization\n",
    "from multiple_minimum_monte_carlo.conformer_ensemble import ConformerEnsemble"
   ]
  },
  {
   "cell_type": "markdown",
   "id": "ee7be6fd",
   "metadata": {},
   "source": [
    "To use this code, you need an ASE calculator. For this example, we'll use the xtb calculator. This isn't installed with this package so you'll need to install it separately to run this example! (conda install xtb-python)"
   ]
  },
  {
   "cell_type": "code",
   "execution_count": null,
   "id": "01646623",
   "metadata": {},
   "outputs": [],
   "source": [
    "from xtb.ase.calculator import XTB"
   ]
  },
  {
   "cell_type": "markdown",
   "id": "e3e24581",
   "metadata": {},
   "source": [
    "Run a multiple minimum monte carlo search from a SMILES string (will work for any ase calculator and optimizer combination, here we use xtb and FIRE)"
   ]
  },
  {
   "cell_type": "code",
   "execution_count": null,
   "id": "d849ca89",
   "metadata": {},
   "outputs": [],
   "source": [
    "smiles = \"CC(=O)Oc1ccccc1C(=O)O\"\n",
    "conformer = Conformer(smiles=smiles)\n",
    "optimizer = ASEOptimization(calc=XTB(method=\"gfn2-xtb\"), optimizer=FIRE, fmax=0.03)\n",
    "conformer_ensemble = ConformerEnsemble(conformer=conformer, calc=optimizer, verbose=True, num_cpus=4, num_iterations=30)\n",
    "final_ensemble = conformer_ensemble.run_monte_carlo()\n",
    "conformer.atoms.set_positions(final_ensemble[0])\n",
    "write(\"lowest_energy_conformer.xyz\", conformer.atoms, format=\"xyz\")"
   ]
  },
  {
   "cell_type": "markdown",
   "id": "06baa2db",
   "metadata": {},
   "source": [
    "Run a multiple minimum monte carlos search from an input XYZ file. If you don't have a SMILES string, it will attempt to generate a mol from the XYZ file (this may fail for more complex molecules)"
   ]
  },
  {
   "cell_type": "code",
   "execution_count": null,
   "id": "942126c6",
   "metadata": {},
   "outputs": [],
   "source": [
    "input_xyz = \"example.xyz\"\n",
    "conformer = Conformer(input_xyz=input_xyz, charge=0)\n",
    "optimizer = ASEOptimization(calc=XTB(method=\"gfn2-xtb\"), optimizer=FIRE)\n",
    "conformer_ensemble = ConformerEnsemble(conformer=conformer, calc=optimizer, verbose=True, num_cpus=4, num_iterations=30, initial_optimization=False)\n",
    "final_ensemble = conformer_ensemble.run_monte_carlo()\n",
    "conformer.atoms.set_positions(final_ensemble[0])\n",
    "write(\"lowest_energy_conformer_from_xyz.xyz\", conformer.atoms, format=\"xyz\")"
   ]
  }
 ],
 "metadata": {
  "kernelspec": {
   "display_name": "omol",
   "language": "python",
   "name": "python3"
  },
  "language_info": {
   "codemirror_mode": {
    "name": "ipython",
    "version": 3
   },
   "file_extension": ".py",
   "mimetype": "text/x-python",
   "name": "python",
   "nbconvert_exporter": "python",
   "pygments_lexer": "ipython3",
   "version": "3.12.11"
  }
 },
 "nbformat": 4,
 "nbformat_minor": 5
}
