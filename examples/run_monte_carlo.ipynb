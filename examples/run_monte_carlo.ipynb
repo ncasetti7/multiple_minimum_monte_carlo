{
 "cells": [
  {
   "cell_type": "code",
   "execution_count": null,
   "id": "108e6c6c",
   "metadata": {},
   "outputs": [],
   "source": [
    "import os\n",
    "import sys\n",
    "from ase.optimize.fire import FIRE\n",
    "from ase.io import write\n",
    "# Ensure the repository root is on sys.path so tests can import the package\n",
    "# This is only necessary if the package isn't actually installed (will only work in this directory)\n",
    "ROOT = os.path.abspath(\"..\")\n",
    "if ROOT not in sys.path:\n",
    "    sys.path.insert(0, ROOT)\n",
    "\n",
    "# If package is installed, the below will work fine (without adding to path)\n",
    "from multiple_minimum_monte_carlo.conformer import Conformer\n",
    "from multiple_minimum_monte_carlo.calculation import ASEOptimization\n",
    "from multiple_minimum_monte_carlo.conformer_ensemble import ConformerEnsemble"
   ]
  },
  {
   "cell_type": "markdown",
   "id": "ee7be6fd",
   "metadata": {},
   "source": [
    "To use this code, you need an ASE calculator. For this example, we'll use the xtb calculator. This isn't installed with this package so you'll need to install it separately to run this example! (conda install xtb-python)"
   ]
  },
  {
   "cell_type": "code",
   "execution_count": 2,
   "id": "01646623",
   "metadata": {},
   "outputs": [],
   "source": [
    "from xtb.ase.calculator import XTB"
   ]
  },
  {
   "cell_type": "markdown",
   "id": "e3e24581",
   "metadata": {},
   "source": [
    "Run a multiple minimum monte carlo search from a SMILES string (will work for any ase calculator and optimizer combination, here we use MOPAC and FIRE)"
   ]
  },
  {
   "cell_type": "code",
   "execution_count": null,
   "id": "d849ca89",
   "metadata": {},
   "outputs": [],
   "source": [
    "smiles = \"CC(=O)Oc1ccccc1C(=O)O\"\n",
    "conformer = Conformer(smiles=smiles)\n",
    "optimizer = ASEOptimization(calc=XTB(method=\"gfn2-xtb\"), optimizer=FIRE, fmax=0.03)\n",
    "conformer_ensemble = ConformerEnsemble(conformer=conformer, calc=optimizer, verbose=True, num_cpus=4, num_iterations=30)\n",
    "final_ensemble = conformer_ensemble.run_monte_carlo()\n",
    "conformer.atoms.set_positions(final_ensemble[0])\n",
    "write(\"lowest_energy_conformer.xyz\", conformer.atoms, format=\"xyz\")"
   ]
  },
  {
   "cell_type": "markdown",
   "id": "06baa2db",
   "metadata": {},
   "source": [
    "Run a multiple minimum monte carlos search from an input XYZ file. If you don't have a SMILES string, it will attempt to generate a mol from the XYZ file (this may fail)"
   ]
  },
  {
   "cell_type": "code",
   "execution_count": null,
   "id": "942126c6",
   "metadata": {},
   "outputs": [],
   "source": [
    "input_xyz = \"example.xyz\"\n",
    "conformer = Conformer(input_xyz=input_xyz, charge=0)\n",
    "optimizer = ASEOptimization(calc=XTB(method=\"gfn2-xtb\"), optimizer=FIRE)\n",
    "conformer_ensemble = ConformerEnsemble(conformer=conformer, calc=optimizer, verbose=True, num_cpus=4, num_iterations=30, initial_optimization=False)\n",
    "final_ensemble = conformer_ensemble.run_monte_carlo()\n",
    "conformer.atoms.set_positions(final_ensemble[0])\n",
    "write(\"lowest_energy_conformer_from_xyz.xyz\", conformer.atoms, format=\"xyz\")"
   ]
  }
 ],
 "metadata": {
  "kernelspec": {
   "display_name": "buchwald",
   "language": "python",
   "name": "python3"
  },
  "language_info": {
   "codemirror_mode": {
    "name": "ipython",
    "version": 3
   },
   "file_extension": ".py",
   "mimetype": "text/x-python",
   "name": "python",
   "nbconvert_exporter": "python",
   "pygments_lexer": "ipython3",
   "version": "3.8.18"
  }
 },
 "nbformat": 4,
 "nbformat_minor": 5
}
